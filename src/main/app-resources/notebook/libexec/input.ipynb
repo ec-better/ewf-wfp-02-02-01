{
 "cells": [
  {
   "cell_type": "markdown",
   "metadata": {
    "slideshow": {
     "slide_type": "skip"
    }
   },
   "source": [
    "## ewf-wfp-02-02-01 - Snow Cover Characterization Time Series"
   ]
  },
  {
   "cell_type": "markdown",
   "metadata": {},
   "source": [
    "Snow Cover Characterization Time Series"
   ]
  },
  {
   "cell_type": "markdown",
   "metadata": {},
   "source": [
    "---"
   ]
  },
  {
   "cell_type": "markdown",
   "metadata": {},
   "source": [
    "### <a name=\"service\">Service definition"
   ]
  },
  {
   "cell_type": "code",
   "execution_count": 1,
   "metadata": {
    "collapsed": true
   },
   "outputs": [],
   "source": [
    "service = dict([('title', 'Snow Cover Characterization Time Series'),\n",
    "                ('abstract', 'Snow Cover Characterization Time Series'),\n",
    "                ('id', 'ewf-wfp-02-02-01')])"
   ]
  },
  {
   "cell_type": "code",
   "execution_count": 2,
   "metadata": {},
   "outputs": [],
   "source": [
    "regionOfInterest = dict([('id', 'regionOfInterest'),\n",
    "                         ('value', 'POLYGON((25.0 48.0, 94.0 48.0, 94.0 23.1, 25.0 23.1, 25.0 48.0))'),\n",
    "                         ('title', 'WKT Polygon for the Region of Interest'),\n",
    "                         ('abstract', 'Set the value of WKT Polygon')])"
   ]
  },
  {
   "cell_type": "code",
   "execution_count": 3,
   "metadata": {},
   "outputs": [],
   "source": [
    "nameOfRegion = dict([('id', 'nameOfRegion'),\n",
    "                     ('value', 'CentralAsia'),\n",
    "                     ('title', 'Name of Region'),\n",
    "                     ('abstract', 'Name of the region of interest'),\n",
    "                     ('minOccurs', '1')])"
   ]
  },
  {
   "cell_type": "markdown",
   "metadata": {},
   "source": [
    "### <a name=\"runtime\">Runtime parameter definition"
   ]
  },
  {
   "cell_type": "markdown",
   "metadata": {},
   "source": [
    "**Input identifiers**\n",
    "\n",
    "This is the MDOIS stack of products' identifiers"
   ]
  },
  {
   "cell_type": "code",
   "execution_count": 4,
   "metadata": {
    "collapsed": true
   },
   "outputs": [],
   "source": [
    "input_identifiers = ('MOD10A2.A2015001.h19v04.006.2016172230552.hdf','MOD10A2.A2015001.h19v05.006.2016172224844.hdf','MOD10A2.A2015001.h20v04.006.2016172230600.hdf','MOD10A2.A2015001.h20v05.006.2016172234130.hdf','MOD10A2.A2015009.h19v04.006.2016173202655.hdf','MOD10A2.A2015009.h19v05.006.2016173201100.hdf','MOD10A2.A2015009.h20v04.006.2016173201300.hdf','MOD10A2.A2015009.h20v05.006.2016173203828.hdf')"
   ]
  },
  {
   "cell_type": "markdown",
   "metadata": {},
   "source": [
    "**Input references**\n",
    "\n",
    "This is the MODIS stack catalogue references"
   ]
  },
  {
   "cell_type": "code",
   "execution_count": 5,
   "metadata": {
    "collapsed": false,
    "slideshow": {
     "slide_type": "subslide"
    }
   },
   "outputs": [],
   "source": [
    "input_references = tuple(['https://catalog.terradue.com/modis/search?uid={0}'.format(pid) for pid in input_identifiers])"
   ]
  },
  {
   "cell_type": "markdown",
   "metadata": {
    "slideshow": {
     "slide_type": "slide"
    }
   },
   "source": [
    "**Data path**\n",
    "\n",
    "This path defines where the data is staged-in. "
   ]
  },
  {
   "cell_type": "code",
   "execution_count": 6,
   "metadata": {
    "collapsed": true
   },
   "outputs": [],
   "source": [
    "data_path = \"/workspace/data/modis_snow\""
   ]
  },
  {
   "cell_type": "markdown",
   "metadata": {},
   "source": [
    "**Aux folders**"
   ]
  },
  {
   "cell_type": "code",
   "execution_count": 7,
   "metadata": {},
   "outputs": [],
   "source": [
    "output_folder = ''"
   ]
  },
  {
   "cell_type": "code",
   "execution_count": 8,
   "metadata": {},
   "outputs": [],
   "source": [
    "temp_folder = 'temp'"
   ]
  },
  {
   "cell_type": "markdown",
   "metadata": {},
   "source": [
    "#### Import Modules"
   ]
  },
  {
   "cell_type": "code",
   "execution_count": 9,
   "metadata": {},
   "outputs": [],
   "source": [
    "import os\n",
    "import shutil\n",
    "\n",
    "import sys\n",
    "import string\n",
    "import numpy as np\n",
    "from osgeo import gdal, ogr, osr\n",
    "from shapely.wkt import loads\n",
    "\n",
    "import math\n",
    "\n",
    "import datetime\n",
    "\n",
    "import pdb\n",
    "\n",
    "from convertmodis_gdal import createMosaicGDAL"
   ]
  },
  {
   "cell_type": "markdown",
   "metadata": {},
   "source": [
    "#### Auxiliary vars"
   ]
  },
  {
   "cell_type": "code",
   "execution_count": 10,
   "metadata": {},
   "outputs": [],
   "source": [
    "check_results = True"
   ]
  },
  {
   "cell_type": "markdown",
   "metadata": {},
   "source": [
    "#### Auxiliary methods"
   ]
  },
  {
   "cell_type": "code",
   "execution_count": 11,
   "metadata": {},
   "outputs": [],
   "source": [
    "# remove contents of a given folder\n",
    "# used to clean a temporary folder\n",
    "def rm_cfolder(folder):\n",
    "    #folder = '/path/to/folder'\n",
    "    for the_file in os.listdir(folder):\n",
    "        file_path = os.path.join(folder, the_file)\n",
    "        try:\n",
    "            if os.path.isfile(file_path):\n",
    "                os.unlink(file_path)\n",
    "            elif os.path.isdir(file_path): shutil.rmtree(file_path)\n",
    "        except Exception as e:\n",
    "            print(e)\n",
    "            \n",
    "            \n",
    "def get_metadata(filepath):\n",
    "    ds = gdal.Open(filepath)\n",
    "    projection = ds.GetProjection()\n",
    "    geotransform = ds.GetGeoTransform()\n",
    "    no_data_value = ds.GetRasterBand(1).GetNoDataValue()\n",
    "    data_type = ds.GetRasterBand(1).DataType\n",
    "    return projection, geotransform, no_data_value, data_type\n",
    "\n",
    "def get_matrix_list(image_list):\n",
    "    mat_list = []\n",
    "    for img in image_list:\n",
    "        dataset = gdal.Open(img)\n",
    "        product_array = dataset.GetRasterBand(1).ReadAsArray()\n",
    "        mat_list.append(product_array)\n",
    "        dataset = None\n",
    "    return mat_list\n",
    "\n",
    "\n",
    "# computes matrix with the number of snow days\n",
    "# used to compute 2) Count of number of snow days during the season\n",
    "def get_snow_ndays (matrix_list):\n",
    "    \n",
    "    snow_ndays = np.full_like(matrix_list[0], 0)\n",
    "    \n",
    "    for m in matrix_list:\n",
    "        \n",
    "        # convert each element to its binary sequence and counts the number os 1s\n",
    "        snow_ndays_counter = np.vectorize(lambda m: format(m, 'b').count('1'))\n",
    "        \n",
    "        snow_ndays = snow_ndays + snow_ndays_counter(m)\n",
    "\n",
    "    return snow_ndays\n",
    "\n",
    "\n",
    "\n",
    "\n",
    "# given a string of 0s and 1s\n",
    "# returns: num_of_1s - last number of consecutive numbers of 1s\n",
    "#          max_num_of_1s_so_far - last max number of consecutive numbers of 1s\n",
    "#          last_car - the last character ('0' or '1')\n",
    "# it also recives those variables as input in order to apply it to a sequence os strings\n",
    "# used to compute 3) Count of number of consecutive snow cover days\n",
    "def count_of_major_consecutive_sc_days(sr, num_of_1s = 0, max_num_of_1s_so_far = 0, last_car = '0'):\n",
    "    \n",
    "    if isinstance(sr, str) and len(sr) == 8:\n",
    "        pass\n",
    "    else:\n",
    "        # convert to binary sequence os 0s and 1s\n",
    "        # fill with 0 to the extent of 8 chars\n",
    "        # reverse order (because modis stores info in reverse order)\n",
    "        sr = format(sr, 'b').zfill(8)[::-1]\n",
    "    \n",
    "    for c in sr:\n",
    "        \n",
    "        if c == '1' and last_car == '1':\n",
    "            num_of_1s = num_of_1s + 1\n",
    "            \n",
    "        elif c == '1' and last_car == '0':\n",
    "            \n",
    "            if num_of_1s > max_num_of_1s_so_far:\n",
    "                max_num_of_1s_so_far = num_of_1s\n",
    "            \n",
    "            num_of_1s = 1\n",
    "            \n",
    "        last_car = c\n",
    "        if num_of_1s > max_num_of_1s_so_far:\n",
    "            max_num_of_1s_so_far = num_of_1s\n",
    "            \n",
    "    return num_of_1s, max_num_of_1s_so_far, last_car\n",
    "\n",
    "# Apply count_of_major_consecutive_sc_days to a list os matrices\n",
    "# os sequences os 0s and 1s\n",
    "# used to compute 3) Count of number of consecutive snow cover days\n",
    "def get_max_sc_consecutive_ndays (matrix_list):\n",
    "    \n",
    "\n",
    "    num_of_1s = np.zeros(matrix_list[0].shape)\n",
    "    max_num_of_1s_so_far = np.zeros(matrix_list[0].shape)  \n",
    "    last_car = np.full(matrix_list[0].shape, ['0'],dtype=str)\n",
    "    \n",
    "    major_consecutive_sc_days_counter = np.vectorize(count_of_major_consecutive_sc_days)\n",
    "    \n",
    "    for m in matrix_list:\n",
    "        num_of_1s, max_num_of_1s_so_far, last_car = major_consecutive_sc_days_counter(m, num_of_1s, max_num_of_1s_so_far, last_car)\n",
    "    \n",
    "    return max_num_of_1s_so_far\n",
    "\n",
    "\n",
    "\n",
    "def find_start_day_snow_season(sr, pos_current_img, pos_img1 = -1, pos_img2 = -1, pos_1st_snow = -1):\n",
    "    \n",
    "    if isinstance(sr, str) and len(sr) == 8:\n",
    "        pass\n",
    "    else:\n",
    "        # convert to binary sequence os 0s and 1s\n",
    "        # fill with 0 to the extent of 8 chars\n",
    "        # reverse order (because modis stores info in reverse order)\n",
    "        sr = format(sr, 'b') #.zfill(8)[::-1]\n",
    "        \n",
    "    if '1' in sr: # if sr contains at least one 1\n",
    "        \n",
    "        if pos_img1 == -1:\n",
    "            pos_img1 = pos_current_img\n",
    "            pos_1st_snow = sr.zfill(8)[::-1].find('1')\n",
    "        else:\n",
    "            if pos_img2 == -1:\n",
    "                pos_img2 = pos_current_img\n",
    "            else:\n",
    "                pass\n",
    "            \n",
    "    else:\n",
    "        if pos_img1 == -1:\n",
    "            pass\n",
    "        else:\n",
    "            pos_img1 = -1\n",
    "            pos_1st_snow = -1\n",
    "            \n",
    "    return pos_img1, pos_img2, pos_1st_snow\n",
    "\n",
    "  \n",
    "    \n",
    "\n",
    "    \n",
    "    \n",
    "\n",
    "def get_start_day_snow_season (matrix_list):\n",
    " \n",
    "    pos_img1 = np.ones(matrix_list[0].shape) * -1\n",
    "    pos_img2 = np.ones(matrix_list[0].shape) * -1\n",
    "    pos_1st_snow = np.ones(matrix_list[0].shape) * -1\n",
    "    \n",
    "    start_day_snow_season_finder = np.vectorize(find_start_day_snow_season)\n",
    "    \n",
    "    for idxsa in range(len(matrix_list)):\n",
    "        \n",
    "        pos_img1, pos_img2, pos_1st_snow = start_day_snow_season_finder(matrix_list[idxsa], idxsa, pos_img1, pos_img2, pos_1st_snow)\n",
    "    \n",
    "    return pos_img1, pos_1st_snow\n",
    "\n",
    "    \n",
    "    \n",
    "#(COS DOY) is the cosine of the Julian date transformed to radians or degrees;\n",
    "# that is, = cos (2 \\pi t / 365) or cos(360º t / 365) and t is the Julian date of the valid time (the Julian date for January 1st is 1, and for October 31st it is 304)\n",
    "# From Statistical Methods in the Atmospheric Sciences by Daniel S. Wilks\n",
    "# used to compute 4) Start and end date of snow cover season\n",
    "def date2COSDOY (date):\n",
    "    # datetime.datetime(2019,12,30)\n",
    "    return math.cos(2 * math.pi * date.timetuple().tm_yday / 365)\n",
    "\n",
    "# given a list of dates,\n",
    "# the index in that list and the index in the eight day sequence\n",
    "# returns cos_doy\n",
    "def indexes_to_cosdoy (dates, img_idx, eight_day_idx):\n",
    "    \n",
    "    date = dates[img_idx] + datetime.timedelta(days=eight_day_idx)\n",
    "    return date2COSDOY(date)\n",
    "\n",
    "\n",
    "\n",
    "def get_start_cos_doy_snow_season(py_dates, pos_im, pos_8_im):\n",
    "    cos_doy_start_day = np.zeros(pos_im.shape)\n",
    "    ni,nj = pos_im.shape\n",
    "    for i in range(ni):\n",
    "        for j in range(nj):\n",
    "            cos_doy_start_day[i,j] = indexes_to_cosdoy (py_dates, pos_im[i,j], pos_8_im[i,j])\n",
    "        \n",
    "    return cos_doy_start_day\n",
    "\n",
    "\n",
    "def write_output_image(filepath, output_matrix, image_format, data_format, mask=None, output_projection=None, output_geotransform=None, no_data_value=None):\n",
    "    \n",
    "    driver = gdal.GetDriverByName(image_format)\n",
    "    out_rows = np.size(output_matrix, 0)\n",
    "    out_columns = np.size(output_matrix, 1)\n",
    "    \n",
    "    \n",
    "    if mask is not None and mask is not 0:\n",
    "        # TODO: check if output folder exists\n",
    "        output = driver.Create(filepath, out_columns, out_rows, 2, data_format)\n",
    "        mask_band = output.GetRasterBand(2)\n",
    "        mask_band.WriteArray(mask)\n",
    "        if no_data_value is not None:\n",
    "            output_matrix[mask > 0] = no_data_value\n",
    "    else:\n",
    "        output = driver.Create(filepath, out_columns, out_rows, 1, data_format)\n",
    "    \n",
    "    if output_projection is not None:\n",
    "        output.SetProjection(output_projection)\n",
    "    if output_geotransform is not None:\n",
    "        output.SetGeoTransform(output_geotransform)\n",
    "    \n",
    "    raster_band = output.GetRasterBand(1)\n",
    "    if no_data_value is not None:\n",
    "        raster_band.SetNoDataValue(no_data_value)\n",
    "    raster_band.WriteArray(output_matrix)\n",
    "    \n",
    "    gdal.Warp(filepath, output, format=\"GTiff\", outputBoundsSRS='EPSG:4326', xRes=output_geotransform[1], yRes=-output_geotransform[5], targetAlignedPixels=True)\n",
    "    \n",
    "    \n",
    "    \n",
    "    \n",
    "    \n",
    "\n",
    "\n",
    "\n",
    "\n"
   ]
  },
  {
   "cell_type": "code",
   "execution_count": 12,
   "metadata": {},
   "outputs": [
    {
     "name": "stdout",
     "output_type": "stream",
     "text": [
      "teste\n",
      "new cenas\n",
      "(2, 3, '1')\n",
      "(32, 32, '1')\n",
      "now with matrices\n",
      "[array([['10111011', '11111111', '11100001'],\n",
      "       ['10010000', '00011100', '11100000']], dtype='|S8'), array([['10111011', '11111111', '11100001'],\n",
      "       ['10010000', '00011100', '11100000']], dtype='|S8')]\n",
      "[[ 3 16  4]\n",
      " [ 1  3  3]]\n",
      "(3, 4, 4)\n",
      "[[0 0 1]\n",
      " [0 3 0]]\n",
      "[[0 0 0]\n",
      " [4 2 5]]\n"
     ]
    }
   ],
   "source": [
    "if check_results:\n",
    "\n",
    "    print('teste')\n",
    "    snow_array = ['10111011', '11111111', '11100001', '10010000', '00011100', '11100011']\n",
    "\n",
    "    snow_array1 = np.array([['10111011', '11111111', '11100001'],\n",
    "                            ['10010000', '00011100', '11100000']])\n",
    "\n",
    "    snow_array2 = np.array([['10111011', '11111111', '11100001'],\n",
    "                           ['10010000', '00011100', '11100000']])\n",
    "\n",
    "    snow_matrix_list = [snow_array1]\n",
    "    snow_matrix_list.append(snow_array2)\n",
    "\n",
    "    '''\n",
    "    n_ant_snow = 0\n",
    "    n_cons = 0\n",
    "    for sr in snow_array:\n",
    "        n_ant_snow, n_cons = count_consecutive_sc_days(sr, n_ant_snow, n_cons, min_sc_days = 2)\n",
    "        #print(n_cons)\n",
    "\n",
    "    if n_ant_snow >= 2:\n",
    "        n_cons = n_cons + 1\n",
    "\n",
    "    print(snow_array)\n",
    "    print(n_cons)\n",
    "    '''\n",
    "\n",
    "    print('new cenas')\n",
    "    print(count_of_major_consecutive_sc_days(snow_array[0]))\n",
    "\n",
    "    num_of_1s = 0\n",
    "    max_num_of_1s_so_far = 0\n",
    "    last_car = '0'\n",
    "    for s in ['11111111', '11111111' , '11111111' , '11111111']:\n",
    "    \n",
    "        num_of_1s, max_num_of_1s_so_far, last_car = count_of_major_consecutive_sc_days(s, num_of_1s, max_num_of_1s_so_far, last_car)\n",
    "    \n",
    "    print(num_of_1s, max_num_of_1s_so_far, last_car)\n",
    "\n",
    "\n",
    "\n",
    "    print('now with matrices')\n",
    "\n",
    "    print(snow_matrix_list)\n",
    "    c = get_max_sc_consecutive_ndays (snow_matrix_list)\n",
    "\n",
    "    print(c)\n",
    "    \n",
    "    \n",
    "    # about start date snow\n",
    "    \n",
    "    \n",
    "    \n",
    "    snow_array = ['10111011', '11111111', '11100001', '10010000', '00011100', '11100011']\n",
    "    snow_array = ['00000000', '00010000', '00000000', '10010000', '00011100', '11100011']\n",
    "\n",
    "    pos_img1 = -1\n",
    "    pos_img2 = -1\n",
    "    pos_1st_snow = -1\n",
    "\n",
    "    for idxsa in range(len(snow_array)):\n",
    "    \n",
    "        pos_img1, pos_img2, pos_1st_snow = find_start_day_snow_season(snow_array[idxsa], idxsa, pos_img1, pos_img2, pos_1st_snow)\n",
    "    \n",
    "    print(pos_img1, pos_img2, pos_1st_snow)\n",
    "    \n",
    "    \n",
    "    \n",
    "    \n",
    "    snow_array1 = np.array([['10111011', '11111111', '00000000'],\n",
    "                            ['10010000', '00000000', '11100000']])\n",
    "\n",
    "    snow_array2 = np.array([['10111011', '11111111', '11100001'],\n",
    "                            ['10010000', '00000100', '11100000']])\n",
    "    \n",
    "    snow_array3 = np.array([['10111011', '11111111', '11100001'],\n",
    "                            ['10010000', '00000000', '11100000']])\n",
    "\n",
    "    snow_array4 = np.array([['10111011', '11111111', '11100001'],\n",
    "                            ['10010000', '00011100', '11100000']])\n",
    "\n",
    "    snow_array4 = np.array([['10111011', '11111111', '11100001'],\n",
    "                            ['10010000', '00011100', '11100000']])\n",
    "\n",
    "    snow_matrix_list = [snow_array1]\n",
    "    snow_matrix_list.append(snow_array2)\n",
    "    snow_matrix_list.append(snow_array3)\n",
    "    snow_matrix_list.append(snow_array4)\n",
    "    \n",
    "\n",
    "    pos_im, pos_8 = get_start_day_snow_season (snow_matrix_list)\n",
    "\n",
    "    print(pos_im)\n",
    "    print(pos_8)\n",
    "    \n",
    "   \n",
    "\n",
    "\n",
    "\n"
   ]
  },
  {
   "cell_type": "markdown",
   "metadata": {},
   "source": [
    "#### Auxiliary folders"
   ]
  },
  {
   "cell_type": "code",
   "execution_count": 13,
   "metadata": {},
   "outputs": [],
   "source": [
    "#Create folders\n",
    "#if not os.path.isdir(data_path):\n",
    "#    os.mkdir(data_path)\n",
    "\n",
    "if len(output_folder) > 0:\n",
    "    if not os.path.isdir(output_folder):\n",
    "        os.mkdir(output_folder)\n",
    "\n",
    "if not os.path.isdir(temp_folder):\n",
    "    os.mkdir(temp_folder)"
   ]
  },
  {
   "cell_type": "markdown",
   "metadata": {},
   "source": [
    "#### Workflow"
   ]
  },
  {
   "cell_type": "markdown",
   "metadata": {},
   "source": [
    "##### Group identifiers by date for the mosaicking"
   ]
  },
  {
   "cell_type": "code",
   "execution_count": 14,
   "metadata": {},
   "outputs": [
    {
     "name": "stdout",
     "output_type": "stream",
     "text": [
      "2015-01-09\n",
      "['MOD10A2.A2015009.h19v04.006.2016173202655.hdf', 'MOD10A2.A2015009.h19v05.006.2016173201100.hdf', 'MOD10A2.A2015009.h20v04.006.2016173201300.hdf', 'MOD10A2.A2015009.h20v05.006.2016173203828.hdf']\n",
      "2015-01-01\n",
      "['MOD10A2.A2015001.h19v04.006.2016172230552.hdf', 'MOD10A2.A2015001.h19v05.006.2016172224844.hdf', 'MOD10A2.A2015001.h20v04.006.2016172230600.hdf', 'MOD10A2.A2015001.h20v05.006.2016172234130.hdf']\n"
     ]
    }
   ],
   "source": [
    "# group by date\n",
    "input_identifiers_per_date = {}\n",
    "\n",
    "for ii in input_identifiers:\n",
    "    \n",
    "    key = ii.split('/')[-1].split('.')[1]\n",
    "    \n",
    "    #print(ii.split('/')[-1].split('.')[1])\n",
    "    \n",
    "    year = int(key[1:5])\n",
    "    days = int(key[5:8])\n",
    "    date_str = datetime.datetime(year, 1, 1) + datetime.timedelta(days - 1)\n",
    "    date_str = date_str.strftime(\"%Y-%m-%d\")\n",
    "    \n",
    "    if date_str in input_identifiers_per_date:\n",
    "        input_identifiers_per_date[date_str].append(ii)\n",
    "    else:\n",
    "        input_identifiers_per_date[date_str] = [ii]\n",
    "        \n",
    "\n",
    "for k in input_identifiers_per_date:\n",
    "    print(k)\n",
    "    \n",
    "    #print(date_str)\n",
    "    \n",
    "    print(input_identifiers_per_date[k])\n",
    "    \n",
    "dates = [dt for dt in input_identifiers_per_date]\n",
    "dates.sort()\n"
   ]
  },
  {
   "cell_type": "markdown",
   "metadata": {},
   "source": [
    "##### Mosaicking images"
   ]
  },
  {
   "cell_type": "code",
   "execution_count": 15,
   "metadata": {},
   "outputs": [
    {
     "name": "stdout",
     "output_type": "stream",
     "text": [
      "The mosaic file temp/MOD10A2.A2015001.CentralAsia.tif has been created\n",
      "The mosaic file temp/MOD10A2.A2015009.CentralAsia.tif has been created\n"
     ]
    }
   ],
   "source": [
    "\n",
    "mosaic_files = []\n",
    "\n",
    "\n",
    "#for g in input_identifiers_per_date:\n",
    "for g in dates: # use dates instead of input_identifiers_per_date keys in order to be ordered\n",
    "\n",
    "    subset_identifiers = input_identifiers_per_date[g]\n",
    "\n",
    "    list_of_file = [os.path.join(data_path, fn) for fn in subset_identifiers]\n",
    "\n",
    "    #list_of_file[0:4]\n",
    "\n",
    "    mosaicGdal = createMosaicGDAL(list_of_file[0:4], '0 1', 'GTiff')\n",
    "\n",
    "    nstr = list_of_file[0].split('/')[-1]\n",
    "\n",
    "    mosaic_output_file_name = '.'.join([nstr.split('.')[0], nstr.split('.')[1], nameOfRegion['value'], 'tif'])\n",
    "\n",
    "    mosaic_file = os.path.join(temp_folder, mosaic_output_file_name)\n",
    "\n",
    "    mosaicGdal.run(mosaic_file)\n",
    "\n",
    "    mosaic_files.append(mosaic_file)"
   ]
  },
  {
   "cell_type": "code",
   "execution_count": 16,
   "metadata": {},
   "outputs": [
    {
     "data": {
      "text/plain": [
       "['temp/MOD10A2.A2015001.CentralAsia.tif',\n",
       " 'temp/MOD10A2.A2015009.CentralAsia.tif']"
      ]
     },
     "execution_count": 16,
     "metadata": {},
     "output_type": "execute_result"
    }
   ],
   "source": [
    "mosaic_files"
   ]
  },
  {
   "cell_type": "markdown",
   "metadata": {},
   "source": [
    "##### Count of number of snow days during the season"
   ]
  },
  {
   "cell_type": "code",
   "execution_count": 17,
   "metadata": {},
   "outputs": [
    {
     "data": {
      "text/plain": [
       "array([[1, 1, 2, ..., 2, 2, 2],\n",
       "       [1, 1, 2, ..., 2, 2, 2],\n",
       "       [1, 1, 2, ..., 2, 2, 2],\n",
       "       ...,\n",
       "       [0, 0, 0, ..., 0, 0, 0],\n",
       "       [0, 0, 0, ..., 0, 0, 0],\n",
       "       [0, 0, 0, ..., 0, 0, 0]])"
      ]
     },
     "execution_count": 17,
     "metadata": {},
     "output_type": "execute_result"
    }
   ],
   "source": [
    "projection, geotransform, no_data_value, data_type = get_metadata(mosaic_files[0])\n",
    "    \n",
    "ml = get_matrix_list(mosaic_files)\n",
    "\n",
    "snow_ndays = get_snow_ndays(ml)\n",
    "\n",
    "snow_ndays"
   ]
  },
  {
   "cell_type": "markdown",
   "metadata": {},
   "source": [
    "##### Count of number of consecutive snow cover days"
   ]
  },
  {
   "cell_type": "code",
   "execution_count": 18,
   "metadata": {},
   "outputs": [
    {
     "data": {
      "text/plain": [
       "array([[1, 1, 1, ..., 1, 1, 1],\n",
       "       [1, 1, 1, ..., 1, 1, 1],\n",
       "       [1, 1, 1, ..., 1, 1, 1],\n",
       "       ...,\n",
       "       [0, 0, 0, ..., 0, 0, 0],\n",
       "       [0, 0, 0, ..., 0, 0, 0],\n",
       "       [0, 0, 0, ..., 0, 0, 0]])"
      ]
     },
     "execution_count": 18,
     "metadata": {},
     "output_type": "execute_result"
    }
   ],
   "source": [
    "snow_max_cons_ndays = get_max_sc_consecutive_ndays(ml)\n",
    "\n",
    "snow_max_cons_ndays"
   ]
  },
  {
   "cell_type": "markdown",
   "metadata": {},
   "source": [
    "##### The start day"
   ]
  },
  {
   "cell_type": "code",
   "execution_count": 19,
   "metadata": {},
   "outputs": [],
   "source": [
    "# 1. compute positions of first snow\n",
    "#pos_im, pos_8 = get_start_day_snow_season (ml)\n",
    "\n",
    "# 2. get list of dates from image names\n",
    "#py_dates = [datetime.datetime.strptime(d, \"%Y-%m-%d\").date() for d in dates] # dates in datetime format\n",
    "\n",
    "\n",
    "# 3. compute doy of first snow based on 1. and 2.\n",
    "#cos_doy_start_day = get_start_cos_doy_snow_season(py_dates, pos_im, pos_8):\n",
    "\n",
    "#cos_doy_start_day"
   ]
  },
  {
   "cell_type": "markdown",
   "metadata": {},
   "source": [
    "##### Check result (Count of number of snow days during the season)"
   ]
  },
  {
   "cell_type": "code",
   "execution_count": 21,
   "metadata": {},
   "outputs": [
    {
     "data": {
      "image/png": "[encoded data removed]",
      "text/plain": [
       "<Figure size 432x288 with 1 Axes>"
      ]
     },
     "metadata": {
      "needs_background": "light"
     },
     "output_type": "display_data"
    }
   ],
   "source": [
    "if check_results:\n",
    "    \n",
    "    import matplotlib\n",
    "    import matplotlib.pyplot as plt\n",
    "\n",
    "    fig = plt.figure()\n",
    "    plt.imshow(snow_ndays)\n",
    "    plt.show()"
   ]
  },
  {
   "cell_type": "markdown",
   "metadata": {},
   "source": [
    "##### Check result (Count of number of consecutive snow cover days)"
   ]
  },
  {
   "cell_type": "code",
   "execution_count": 22,
   "metadata": {},
   "outputs": [
    {
     "data": {
      "image/png": "[encoded data removed]",
      "text/plain": [
       "<Figure size 432x288 with 1 Axes>"
      ]
     },
     "metadata": {
      "needs_background": "light"
     },
     "output_type": "display_data"
    }
   ],
   "source": [
    "if check_results:\n",
    "    \n",
    "    import matplotlib\n",
    "    import matplotlib.pyplot as plt\n",
    "\n",
    "    fig = plt.figure()\n",
    "    plt.imshow(snow_max_cons_ndays)\n",
    "    plt.show()"
   ]
  },
  {
   "cell_type": "markdown",
   "metadata": {},
   "source": [
    "##### Write image (Count of number of snow days during the season)"
   ]
  },
  {
   "cell_type": "code",
   "execution_count": 23,
   "metadata": {},
   "outputs": [],
   "source": [
    "\n",
    "snow_ndays_img_name = 'snow_ndays' + '_' + nameOfRegion['value'] + '_' + dates[0] + '_' + dates[-1] + '.tif'\n",
    "snow_ndays_img_name = os.path.join(output_folder, snow_ndays_img_name)\n",
    "\n",
    "write_output_image(snow_ndays_img_name, snow_ndays, 'GTiff', gdal.GDT_UInt16, None, projection, geotransform, no_data_value)\n"
   ]
  },
  {
   "cell_type": "markdown",
   "metadata": {},
   "source": [
    "##### Write image (Count of number of consecutive snow cover days)"
   ]
  },
  {
   "cell_type": "code",
   "execution_count": 24,
   "metadata": {},
   "outputs": [],
   "source": [
    "\n",
    "snow_cons_ndays_img_name = 'snow_cons_ndays' + '_' + nameOfRegion['value'] + '_' + dates[0] + '_' + dates[-1] + '.tif'\n",
    "snow_cons_ndays_img_name = os.path.join(output_folder, snow_cons_ndays_img_name)\n",
    "\n",
    "write_output_image(snow_cons_ndays_img_name, snow_max_cons_ndays, 'GTiff', gdal.GDT_UInt16, None, projection, geotransform, no_data_value)"
   ]
  },
  {
   "cell_type": "markdown",
   "metadata": {},
   "source": [
    "#### Remove temporay files and folders"
   ]
  },
  {
   "cell_type": "code",
   "execution_count": 25,
   "metadata": {},
   "outputs": [],
   "source": [
    "rm_cfolder(temp_folder)\n",
    "\n",
    "os.rmdir(temp_folder)"
   ]
  },
  {
   "cell_type": "code",
   "execution_count": null,
   "metadata": {},
   "outputs": [],
   "source": []
  }
 ],
 "metadata": {
  "kernelspec": {
   "display_name": "vacc-env2",
   "language": "python",
   "name": "vacc-env2"
  },
  "language_info": {
   "codemirror_mode": {
    "name": "ipython",
    "version": 2
   },
   "file_extension": ".py",
   "mimetype": "text/x-python",
   "name": "python",
   "nbconvert_exporter": "python",
   "pygments_lexer": "ipython2",
   "version": "2.7.15"
  }
 },
 "nbformat": 4,
 "nbformat_minor": 2
}
